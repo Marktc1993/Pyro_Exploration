{
 "cells": [
  {
   "cell_type": "markdown",
   "metadata": {},
   "source": [
    "### Exploration of Pyro Probabilistic Programming.\n",
    "by Mark Conrad\n",
    "\n",
    "**Credit to Uber's AI team, I pulled content from their tutorial found at http://pyro.ai/examples/intro_part_i.html**"
   ]
  },
  {
   "cell_type": "code",
   "execution_count": 2,
   "metadata": {
    "collapsed": true
   },
   "outputs": [],
   "source": [
    "import torch\n"
   ]
  },
  {
   "cell_type": "code",
   "execution_count": 3,
   "metadata": {
    "collapsed": true
   },
   "outputs": [],
   "source": [
    "from torch.autograd import Variable"
   ]
  },
  {
   "cell_type": "code",
   "execution_count": 4,
   "metadata": {
    "collapsed": true
   },
   "outputs": [],
   "source": [
    "import pyro\n",
    "import pyro.distributions as dist"
   ]
  },
  {
   "cell_type": "markdown",
   "metadata": {},
   "source": [
    "The basic unit of Pyro programs is the stochastic function. This is an arbitrary Python callable that combines two ingredients: deterministic code and primitive stochastic functions.\n",
    "A stochastic function can be any Python object with __call__() method (e.g. functions, a method or PyTorch nn.Module).\n"
   ]
  },
  {
   "cell_type": "markdown",
   "metadata": {},
   "source": [
    "Stochastic primitive functions are distributions, where we can compute the probability of the outputs given the input.\n",
    "Pyro includes a standalone library, pyro.distributions, of GPU-accelerated multivariate probability distributions built on PyTorch. "
   ]
  },
  {
   "cell_type": "markdown",
   "metadata": {},
   "source": [
    "We can draw a sample x from the unit normal distribution N(0,1)"
   ]
  },
  {
   "cell_type": "code",
   "execution_count": 8,
   "metadata": {},
   "outputs": [
    {
     "data": {
      "text/plain": [
       "Variable containing:\n",
       "-1.8223e+00\n",
       " 1.6114e-01\n",
       " 3.4833e-01\n",
       "     ⋮     \n",
       " 7.2025e-01\n",
       " 7.2063e-01\n",
       " 3.3839e-01\n",
       "[torch.cuda.FloatTensor of size 10000000 (GPU 0)]"
      ]
     },
     "execution_count": 8,
     "metadata": {},
     "output_type": "execute_result"
    }
   ],
   "source": [
    "mu = Variable(torch.zeros(10000000)) # mean = 0\n",
    "sigma = Variable(torch.ones(10000000)) # unit variance.\n",
    "x = dist.normal(mu, sigma).cuda() # x is a sample from N(0,1), we can offload computation to GPUs\n",
    "x"
   ]
  },
  {
   "cell_type": "markdown",
   "metadata": {},
   "source": [
    "It is important to note that dist.normal is a function that takes parameters and dist.normal(...) returns a sample. Parameters are PyTorch Variables. Variables in PyTorch make use of PyTorch's fast tensor math and autograd capabilities (backprop). Now to score the sample x, computing its log probability according to the distribution N(0,1) we do the following. "
   ]
  },
  {
   "cell_type": "code",
   "execution_count": 14,
   "metadata": {},
   "outputs": [
    {
     "data": {
      "text/plain": [
       "array([[[[[[[[[[[[[[[[[[[[[[[[[[[[[[[[Variable containing:\n",
       " 0.3957\n",
       "[torch.FloatTensor of size 1]\n",
       "]]]]]]]]]]]]]]]]]]]]]]]]]]]]]]]], dtype=object)"
      ]
     },
     "execution_count": 14,
     "metadata": {},
     "output_type": "execute_result"
    }
   ],
   "source": [
    "log_p = dist.normal.log_pdf(x, mu, sigma)\n",
    "np.exp(log_p)"
   ]
  },
  {
   "cell_type": "markdown",
   "metadata": {},
   "source": [
    "One core language primitive in Pyro is the pyro.sample statement. Using pyro.sample is as simple as calling a primitive stochastic function with one important difference. \n"
   ]
  },
  {
   "cell_type": "code",
   "execution_count": 15,
   "metadata": {},
   "outputs": [
    {
     "data": {
      "text/plain": [
       "Variable containing:\n",
       " 1.0886\n",
       "[torch.FloatTensor of size 1]"
      ]
     },
     "execution_count": 15,
     "metadata": {},
     "output_type": "execute_result"
    }
   ],
   "source": [
    "x = pyro.sample(\"sample\", dist.normal, mu, sigma)\n",
    "x"
   ]
  },
  {
   "cell_type": "markdown",
   "metadata": {},
   "source": [
    "Just like a direct call to dist.normal, this returns a sample from the unit normal distribution. The crucial difference is that this sample is named. Pyro uses these names to uniquely identify sample statements and change their behavior at runtime depending on how the enclosing stochastic function is being used. \n"
   ]
  },
  {
   "cell_type": "code",
   "execution_count": 23,
   "metadata": {},
   "outputs": [
    {
     "name": "stdout",
     "output_type": "stream",
     "text": [
      "('sunny', 63.63655471801758)\n",
      "('sunny', 83.60599517822266)\n",
      "('cloudy', 54.24677658081055)\n"
     ]
    }
   ],
   "source": [
    "def weather():\n",
    "    \"\"\" We have data on daily mean temperatures and cloud cover and want to reason about how temperature interacts with whether\n",
    "        it was sunny or cloudy. \"\"\"\n",
    "    \n",
    "    # here we define a binary random variable cloudy which is given by a draw from the bernoulli distribution \n",
    "    # with a parameters of 0.3. \n",
    "\n",
    "    cloudy = pyro.sample('cloudy', dist.bernoulli, Variable(torch.Tensor([0.3])) )\n",
    "    # Since this distribution returns a 0 or a 1\n",
    "    # We convert the value cloud to a string so the values of weather are easier to parse through.\n",
    "    cloudy = 'cloudy' if cloudy.data[0] == 1.0 else 'sunny'\n",
    "    # now we define the parameters we are going to use to sample. \n",
    "    # Here the average temperatures for cloudy are 55 and 75 for sunny. \n",
    "    mean_temp = {'cloudy': [55.0], 'sunny': [75.0]}[cloudy]\n",
    "    sigma_temp = {'cloudy':[10.0], 'sunny':[15.0]}[cloudy]\n",
    "    temp = pyro.sample('temp', dist.normal, Variable(torch.Tensor(mean_temp)),\n",
    "                      Variable(torch.Tensor(sigma_temp)))\n",
    "    return cloudy, temp.data[0]\n",
    "for _ in range(3):\n",
    "    print(weather())"
   ]
  },
  {
   "cell_type": "markdown",
   "metadata": {},
   "source": [
    "weather() is a non-deterministic (same input does not guarantee the same output) Python callable that returns two random samples. \n",
    "The randomness is invoked witht the pyro.sample. \n",
    "Moreover, the weather() specifies a joint probability distribution over two named random variables: cloudy and temp. \n",
    "With this, it defines a probabilistic model that we can reason about using the techniques of probability theory. \n",
    "For instance, if I observe a temperature of 70 degrees, how likely is it to be cloudy? \n",
    "We will continue to explore this in the next example.\n",
    "\n"
   ]
  },
  {
   "cell_type": "code",
   "execution_count": 31,
   "metadata": {
    "collapsed": true
   },
   "outputs": [],
   "source": [
    "def ice_cream_sales():\n",
    "    cloudy, temp = weather()\n",
    "    expected_sales = [200] if cloudy == 'sunny' and temp > 80.0 else [50]\n",
    "    ice_cream = pyro.sample('ice_cream',dist.normal, Variable(torch.Tensor(expected_sales)),\n",
    "                           Variable(torch.Tensor([10.0])))\n",
    "    return ice_cream"
   ]
  },
  {
   "cell_type": "markdown",
   "metadata": {},
   "source": [
    "Uber states that Pyro is embedded into Python, stochastic functions can contain arbitrarily complex determinestic Python and randomness can freely affect control flow. We can construc t recursive functions that terminate their recursion nondeterministically, provided we take care to pass pyro.sample unique sample names whenever it's called. "
   ]
  },
  {
   "cell_type": "code",
   "execution_count": 34,
   "metadata": {},
   "outputs": [
    {
     "name": "stdout",
     "output_type": "stream",
     "text": [
      "Variable containing:\n",
      " 0\n",
      "[torch.FloatTensor of size 1]\n",
      "\n"
     ]
    }
   ],
   "source": [
    "\n",
    "def geometric(p, t = None):\n",
    "    \"\"\"Output produced is generated dynamically and different executions can have different numbers of named random variables.\"\"\"\n",
    "    if t is None:\n",
    "        t = 0\n",
    "    x = pyro.sample(\"x+{}\".format(t), dist.bernoulli, p)\n",
    "    if torch.equal(x.data, torch.zeros(1)):\n",
    "        return x\n",
    "    else:\n",
    "        return x + geometric(p, t+1)\n",
    "print(geometric(Variable(torch.Tensor([0.5]))))"
   ]
  },
  {
   "cell_type": "markdown",
   "metadata": {},
   "source": [
    "We can also define stochastic functions that accept as input or produce as output other stochastic functions:\n"
   ]
  },
  {
   "cell_type": "code",
   "execution_count": 40,
   "metadata": {},
   "outputs": [
    {
     "data": {
      "text/plain": [
       "Variable containing:\n",
       "-0.2674\n",
       "[torch.FloatTensor of size 1]"
      ]
     },
     "execution_count": 40,
     "metadata": {},
     "output_type": "execute_result"
    }
   ],
   "source": [
    "def normal_product(mu, sigma):\n",
    "    z1 = pyro.sample(\"z1\", dist.normal, mu, sigma)\n",
    "    z2 = pyro.sample(\"z2\", dist.normal, mu, sigma)\n",
    "    y = z1 * z2\n",
    "    return y\n",
    "\n",
    "# here we are defining a stochastic function\n",
    "def make_normal_normal():\n",
    "    mu_latent = pyro.sample(\"mu_latent\", dist.normal, Variable(torch.zeros(1)), Variable(torch.ones(1)))\n",
    "    fn = lambda sigma: normal_product(mu_latent, sigma)\n",
    "    return fn\n",
    "make_normal_normal()(Variable(torch.ones(1)))"
   ]
  },
  {
   "cell_type": "markdown",
   "metadata": {},
   "source": [
    "The fact that Pyro supports arbitrary Python code like this -iteration, recursion, higher-order functions, etc - in conjunction with random control flows means that Pyro stochastic functions are universal, i.e. they can be used to represent any computable probability distribution. "
   ]
  },
  {
   "cell_type": "markdown",
   "metadata": {},
   "source": [
    "Pyro is built on top of PyTorch to take advantage of dynamic computational graphs which are an important ingredient in allowing for unviersal models that can benefit from GPU-accelerated tensor math. \n"
   ]
  },
  {
   "cell_type": "code",
   "execution_count": 41,
   "metadata": {},
   "outputs": [
    {
     "data": {
      "text/plain": [
       "<torch._C.Generator at 0x12e30b39850>"
      ]
     },
     "execution_count": 41,
     "metadata": {},
     "output_type": "execute_result"
    }
   ],
   "source": [
    "%matplotlib inline\n",
    "# import some dependencies\n",
    "import numpy as np\n",
    "import matplotlib.pyplot as plt\n",
    "try:\n",
    "    import seaborn as sns\n",
    "    sns.set()\n",
    "except ImportError:\n",
    "    pass\n",
    "\n",
    "import torch\n",
    "from torch.autograd import Variable\n",
    "\n",
    "import pyro\n",
    "import pyro.infer\n",
    "import pyro.optim\n",
    "import pyro.distributions as dist\n",
    "\n",
    "torch.manual_seed(101)"
   ]
  },
  {
   "cell_type": "markdown",
   "metadata": {},
   "source": [
    "## Inference in Pyro: From Stochastic Functions to Marginal Distributions\n",
    "\n",
    "Stochastic functions induce a joint probability distribution p(y,z | x) over their latent variables z and return values y, and this joint distribution induces a marginal distribution over return values of the function. However, for non-primitive stochastic functions, we can no longer explicitly compute the marginal probability of an output p(y|x) or draw samples from the marginal distribution over return values y ~ p(y|x) \n"
   ]
  },
  {
   "cell_type": "markdown",
   "metadata": {},
   "source": [
    "In the most generalizeable construct, we can view inference in a universal probabilistic programming language like Pyro to be a problem of constructing this marginal distribution given an arbitrary boolean constraint so that we can perform these computations. The constrain can be deterministic, and hinge on the return value, the internal randomness, or both. \n",
    "Bayesian inference or posterior inference is an important special case of this more general formulation that admits tractable approximiations. In Bayesian inference, the return value is always the values of some subset internal sample statements, and the constraint is an equality constraint on the other internal sample statements. According to the documentation much of modern machine learning can be cast as approximate Bayesian inference and expressed succintly in a language like Pyro.\n",
    "Next we will make a generative model."
   ]
  },
  {
   "cell_type": "markdown",
   "metadata": {},
   "source": [
    "#### Representing marginal distributions\n",
    "Suppose we are trying to figure out how much something weights, but the scale is unreliable, we can try to compensate for this by integrating the noisy measurement info with a guess based on prior knowledge about the object, like its density or material properties. "
   ]
  },
  {
   "cell_type": "code",
   "execution_count": 47,
   "metadata": {
    "collapsed": true
   },
   "outputs": [],
   "source": [
    "def scale(guess):\n",
    "    # the prior over weight encodes our uncertainty about our guess.\n",
    "    weight = pyro.sample(\"weight\", dist.normal, guess, Variable(torch.ones(1)))\n",
    "    # this encodes our belief about the noisiness of the scale:\n",
    "    # the measurement fluctuates around the true weight.\n",
    "    return pyro.sample('measurement', dist.normal, weight, Variable(torch.Tensor([.75])))"
   ]
  },
  {
   "cell_type": "markdown",
   "metadata": {},
   "source": [
    "Let's analyze the models behavior, in particular, we can use importance sampling to simulate the marginal distribution of measurement values we'd expect to see a priori for a given guess.\n",
    "Marginalization in Pyro is split between two steps, first we collect a number of weighted execution traces of the model, then we can collpase those traces into a histogram over possible return values given a particular set of arguments.\n",
    "We use pyro.infer.Marginal\n",
    "Sampling can be done either through sampling, or, for models with only discrete latent variables, exact enumeration. to create a basic importance sampler over execution traces (using the prior as a proposal distribution), we can write:\n"
   ]
  },
  {
   "cell_type": "code",
   "execution_count": 49,
   "metadata": {
    "collapsed": true
   },
   "outputs": [],
   "source": [
    "posterior = pyro.infer.Importance(scale, num_samples=1000)"
   ]
  },
  {
   "cell_type": "markdown",
   "metadata": {},
   "source": [
    "By itself the posterior is not very useful, though advanced users can call it with arguments for scale to sample a raw execution trace.\n",
    "Instead, the posterior is meant to be consumed by pyro.infer.Marginal, which creates a primitive stochastic function with the same input and output types as scale.\n"
   ]
  },
  {
   "cell_type": "code",
   "execution_count": 50,
   "metadata": {},
   "outputs": [
    {
     "data": {
      "text/plain": [
       "Variable containing:\n",
       " 7.4698\n",
       "[torch.FloatTensor of size 1]"
      ]
     },
     "execution_count": 50,
     "metadata": {},
     "output_type": "execute_result"
    }
   ],
   "source": [
    "guess = Variable(torch.Tensor([8.5]))\n",
    "marginal = pyro.infer.Marginal(posterior)\n",
    "marginal(guess)"
   ]
  },
  {
   "cell_type": "markdown",
   "metadata": {},
   "source": [
    "When called with an input guess, marginal first uses posterior to generate a seuqnece of weighted execution traces given guess, then builds a histogram over return values from the traces, and finally returns a sample drawn from the histogram. Calling marginal with the same arguments more than once will sample from the same histogram. \n"
   ]
  },
  {
   "cell_type": "code",
   "execution_count": 51,
   "metadata": {},
   "outputs": [
    {
     "data": {
      "text/plain": [
       "Text(0,0.5,'#')"
      ]
     },
     "execution_count": 51,
     "metadata": {},
     "output_type": "execute_result"
    },
    {
     "data": {
      "image/png": "[encoded data removed]",
      "text/plain": [
       "<matplotlib.figure.Figure at 0x12e37096f60>"
      ]
     },
     "metadata": {},
     "output_type": "display_data"
    }
   ],
   "source": [
    "\n",
    "plt.hist([marginal(guess).data[0] for _ in range(100)], range=(5.0, 12.0))\n",
    "plt.title(\"P(measurement | guess)\")\n",
    "plt.xlabel(\"weight\")\n",
    "plt.ylabel(\"#\")\n",
    "\n"
   ]
  },
  {
   "cell_type": "markdown",
   "metadata": {},
   "source": [
    "pyro.infer.Marginal also accepts the optional keyword argument sites = [name1, name2, ...] that provides a list of names of latent variables. When sites is specified, marginal will return a dictionary where the keys are the names in sites and the values are values at those sites from a single execution trace. \n",
    "This is useful because we may wish to compute many different marginals from the same posterior object.\n",
    "\n",
    "\n"
   ]
  },
  {
   "cell_type": "markdown",
   "metadata": {},
   "source": [
    "The real utility of probabilistic programming is in the ability to condition generative models on observed data and infer the latent factors that might have produced that data. In Pyro, we separate the expression of conditioning from its evaluation via inference, making it possible to write a model once and condition it on many different observations. We can constrain a models internal sample statement to be equal to a given set of observations.\n"
   ]
  },
  {
   "cell_type": "markdown",
   "metadata": {},
   "source": [
    "We will consider scale once more, suppose we want to sample from the marginal distribution of weight give ninput guess== 0.5\n",
    "but now we have observed that measurement ==0.1. Pyro provides the function pyro.condition to allow us to constrain the values of sample statements. pyro.condition is a higher-order function that takes a model and a dictionary of data and returns a new model that has the same input and output signatures but always uses the given values at observed sample statements. "
   ]
  },
  {
   "cell_type": "code",
   "execution_count": 52,
   "metadata": {
    "collapsed": true
   },
   "outputs": [],
   "source": [
    "conditioned_scale = pyro.condition(scale, data= {\"measurement\": Variable(torch.Tensor([8.5]))})"
   ]
  },
  {
   "cell_type": "markdown",
   "metadata": {},
   "source": [
    "This is just like a Python function, conditioning can be deferred to or parametrized with lambda or def.\n"
   ]
  },
  {
   "cell_type": "code",
   "execution_count": 53,
   "metadata": {
    "collapsed": true
   },
   "outputs": [],
   "source": [
    "def deferred_conditioned_scale(measurement, *args, **kwargs):\n",
    "    return pyro.condition(scale, data= {'measurement': measurement})(*args, **kwargs)"
   ]
  },
  {
   "cell_type": "code",
   "execution_count": null,
   "metadata": {
    "collapsed": true
   },
   "outputs": [],
   "source": []
  }
 ],
 "metadata": {
  "kernelspec": {
   "display_name": "Python 3",
   "language": "python",
   "name": "python3"
  },
  "language_info": {
   "codemirror_mode": {
    "name": "ipython",
    "version": 3
   },
   "file_extension": ".py",
   "mimetype": "text/x-python",
   "name": "python",
   "nbconvert_exporter": "python",
   "pygments_lexer": "ipython3",
   "version": "3.6.1"
  }
 },
 "nbformat": 4,
 "nbformat_minor": 2
}
