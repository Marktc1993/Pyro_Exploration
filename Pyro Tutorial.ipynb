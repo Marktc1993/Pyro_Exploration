{
 "cells": [
  {
   "cell_type": "markdown",
   "metadata": {},
   "source": [
    "### Exploration of Pyro Probabilistic Programming.\n",
    "by Mark Conrad\n",
    "\n",
    "**Credit to Uber's AI team, I pulled content from their tutorial found at http://pyro.ai/examples/intro_part_i.html**"
   ]
  },
  {
   "cell_type": "code",
   "execution_count": 63,
   "metadata": {
    "collapsed": true
   },
   "outputs": [],
   "source": [
    "import torch\n",
    "import numpy as np\n",
    "import matplotlib.pyplot as plt\n",
    "plt.style.use(\"fivethirtyeight\")"
   ]
  },
  {
   "cell_type": "code",
   "execution_count": 64,
   "metadata": {
    "collapsed": true
   },
   "outputs": [],
   "source": [
    "from torch.autograd import Variable"
   ]
  },
  {
   "cell_type": "code",
   "execution_count": 65,
   "metadata": {
    "collapsed": true
   },
   "outputs": [],
   "source": [
    "import pyro\n",
    "import pyro.distributions as dist"
   ]
  },
  {
   "cell_type": "markdown",
   "metadata": {},
   "source": [
    "The basic unit of Pyro programs is the stochastic function. This is an arbitrary Python callable that combines two ingredients: deterministic code and primitive stochastic functions.\n",
    "A stochastic function can be any Python object with __call__() method (e.g. functions, a method or PyTorch nn.Module).\n"
   ]
  },
  {
   "cell_type": "markdown",
   "metadata": {},
   "source": [
    "Stochastic primitive functions are distributions, where we can compute the probability of the outputs given the input.\n",
    "Pyro includes a standalone library, pyro.distributions, of GPU-accelerated multivariate probability distributions built on PyTorch. "
   ]
  },
  {
   "cell_type": "markdown",
   "metadata": {},
   "source": [
    "We can draw a sample x from the unit normal distribution N(0,1)"
   ]
  },
  {
   "cell_type": "code",
   "execution_count": 66,
   "metadata": {},
   "outputs": [
    {
     "data": {
      "text/plain": [
       "Variable containing:\n",
       " 3.4780e-01\n",
       "-1.4397e-01\n",
       " 3.8104e-01\n",
       "     ⋮     \n",
       " 7.1100e-01\n",
       "-3.0300e-01\n",
       "-1.4727e+00\n",
       "[torch.cuda.FloatTensor of size 10000000 (GPU 0)]"
      ]
     },
     "execution_count": 66,
     "metadata": {},
     "output_type": "execute_result"
    }
   ],
   "source": [
    "mu = Variable(torch.zeros(10000000)).cuda() # mean = 0\n",
    "sigma = Variable(torch.ones(10000000)).cuda() # unit variance.\n",
    "x = dist.normal(mu, sigma).cuda() # x is a sample from N(0,1), we can offload computation to GPUs\n",
    "x"
   ]
  },
  {
   "cell_type": "markdown",
   "metadata": {},
   "source": [
    "It is important to note that dist.normal is a function that takes parameters and dist.normal(...) returns a sample. Parameters are PyTorch Variables. Variables in PyTorch make use of PyTorch's fast tensor math and autograd capabilities (backprop). Now to score the sample x, computing its log probability according to the distribution N(0,1) we do the following. "
   ]
  },
  {
   "cell_type": "code",
   "execution_count": 67,
   "metadata": {},
   "outputs": [
    {
     "data": {
      "text/plain": [
       "array([[[[[[[[[[[[[[[[[[[[[[[[[[[[[[[[Variable containing:\n",
       " 0\n",
       "[torch.cuda.FloatTensor of size 1 (GPU 0)]\n",
       "]]]]]]]]]]]]]]]]]]]]]]]]]]]]]]]], dtype=object)"
      ]
     },
     "execution_count": 67,
     "metadata": {},
     "output_type": "execute_result"
    }
   ],
   "source": [
    "log_p = dist.normal.log_pdf(x, mu, sigma)\n",
    "np.exp(log_p)"
   ]
  },
  {
   "cell_type": "markdown",
   "metadata": {},
   "source": [
    "One core language primitive in Pyro is the pyro.sample statement. Using pyro.sample is as simple as calling a primitive stochastic function with one important difference. \n"
   ]
  },
  {
   "cell_type": "code",
   "execution_count": 68,
   "metadata": {},
   "outputs": [
    {
     "data": {
      "text/plain": [
       "Variable containing:\n",
       " 3.7862e-03\n",
       "-1.3547e+00\n",
       "-4.2331e-01\n",
       "     ⋮     \n",
       "-1.3666e-01\n",
       " 9.6226e-01\n",
       " 3.1143e-01\n",
       "[torch.cuda.FloatTensor of size 10000000 (GPU 0)]"
      ]
     },
     "execution_count": 68,
     "metadata": {},
     "output_type": "execute_result"
    }
   ],
   "source": [
    "x = pyro.sample(\"sample\", dist.normal, mu, sigma)\n",
    "x"
   ]
  },
  {
   "cell_type": "markdown",
   "metadata": {},
   "source": [
    "Just like a direct call to dist.normal, this returns a sample from the unit normal distribution. The crucial difference is that this sample is named. Pyro uses these names to uniquely identify sample statements and change their behavior at runtime depending on how the enclosing stochastic function is being used. \n"
   ]
  },
  {
   "cell_type": "code",
   "execution_count": 69,
   "metadata": {},
   "outputs": [
    {
     "name": "stdout",
     "output_type": "stream",
     "text": [
      "('sunny', 46.485740661621094)\n",
      "('sunny', 67.42657470703125)\n",
      "('sunny', 59.7248420715332)\n"
     ]
    }
   ],
   "source": [
    "def weather():\n",
    "    \"\"\" We have data on daily mean temperatures and cloud cover and want to reason about how temperature interacts with whether\n",
    "        it was sunny or cloudy. \"\"\"\n",
    "    \n",
    "    # here we define a binary random variable cloudy which is given by a draw from the bernoulli distribution \n",
    "    # with a parameters of 0.3. \n",
    "\n",
    "    cloudy = pyro.sample('cloudy', dist.bernoulli, Variable(torch.Tensor([0.3])) )\n",
    "    # Since this distribution returns a 0 or a 1\n",
    "    # We convert the value cloud to a string so the values of weather are easier to parse through.\n",
    "    cloudy = 'cloudy' if cloudy.data[0] == 1.0 else 'sunny'\n",
    "    # now we define the parameters we are going to use to sample. \n",
    "    # Here the average temperatures for cloudy are 55 and 75 for sunny. \n",
    "    mean_temp = {'cloudy': [55.0], 'sunny': [75.0]}[cloudy]\n",
    "    sigma_temp = {'cloudy':[10.0], 'sunny':[15.0]}[cloudy]\n",
    "    temp = pyro.sample('temp', dist.normal, Variable(torch.Tensor(mean_temp)),\n",
    "                      Variable(torch.Tensor(sigma_temp)))\n",
    "    return cloudy, temp.data[0]\n",
    "for _ in range(3):\n",
    "    print(weather())"
   ]
  },
  {
   "cell_type": "markdown",
   "metadata": {},
   "source": [
    "weather() is a non-deterministic (same input does not guarantee the same output) Python callable that returns two random samples. \n",
    "The randomness is invoked witht the pyro.sample. \n",
    "Moreover, the weather() specifies a joint probability distribution over two named random variables: cloudy and temp. \n",
    "With this, it defines a probabilistic model that we can reason about using the techniques of probability theory. \n",
    "For instance, if I observe a temperature of 70 degrees, how likely is it to be cloudy? \n",
    "We will continue to explore this in the next example.\n",
    "\n"
   ]
  },
  {
   "cell_type": "code",
   "execution_count": 70,
   "metadata": {
    "collapsed": true
   },
   "outputs": [],
   "source": [
    "def ice_cream_sales():\n",
    "    cloudy, temp = weather()\n",
    "    expected_sales = [200] if cloudy == 'sunny' and temp > 80.0 else [50]\n",
    "    ice_cream = pyro.sample('ice_cream',dist.normal, Variable(torch.Tensor(expected_sales)),\n",
    "                           Variable(torch.Tensor([10.0])))\n",
    "    return ice_cream"
   ]
  },
  {
   "cell_type": "markdown",
   "metadata": {},
   "source": [
    "Uber states that Pyro is embedded into Python, stochastic functions can contain arbitrarily complex determinestic Python and randomness can freely affect control flow. We can construc t recursive functions that terminate their recursion nondeterministically, provided we take care to pass pyro.sample unique sample names whenever it's called. "
   ]
  },
  {
   "cell_type": "code",
   "execution_count": 71,
   "metadata": {},
   "outputs": [
    {
     "name": "stdout",
     "output_type": "stream",
     "text": [
      "Variable containing:\n",
      " 1\n",
      "[torch.FloatTensor of size 1]\n",
      "\n"
     ]
    }
   ],
   "source": [
    "\n",
    "def geometric(p, t = None):\n",
    "    \"\"\"Output produced is generated dynamically and different executions can have different numbers of named random variables.\"\"\"\n",
    "    if t is None:\n",
    "        t = 0\n",
    "    x = pyro.sample(\"x+{}\".format(t), dist.bernoulli, p)\n",
    "    if torch.equal(x.data, torch.zeros(1)):\n",
    "        return x\n",
    "    else:\n",
    "        return x + geometric(p, t+1)\n",
    "print(geometric(Variable(torch.Tensor([0.5]))))"
   ]
  },
  {
   "cell_type": "markdown",
   "metadata": {},
   "source": [
    "We can also define stochastic functions that accept as input or produce as output other stochastic functions:\n"
   ]
  },
  {
   "cell_type": "code",
   "execution_count": 72,
   "metadata": {},
   "outputs": [
    {
     "data": {
      "text/plain": [
       "Variable containing:\n",
       " 1.2758\n",
       "[torch.FloatTensor of size 1]"
      ]
     },
     "execution_count": 72,
     "metadata": {},
     "output_type": "execute_result"
    }
   ],
   "source": [
    "def normal_product(mu, sigma):\n",
    "    z1 = pyro.sample(\"z1\", dist.normal, mu, sigma)\n",
    "    z2 = pyro.sample(\"z2\", dist.normal, mu, sigma)\n",
    "    y = z1 * z2\n",
    "    return y\n",
    "\n",
    "# here we are defining a stochastic function\n",
    "def make_normal_normal():\n",
    "    mu_latent = pyro.sample(\"mu_latent\", dist.normal, Variable(torch.zeros(1)), Variable(torch.ones(1)))\n",
    "    fn = lambda sigma: normal_product(mu_latent, sigma)\n",
    "    return fn\n",
    "make_normal_normal()(Variable(torch.ones(1)))"
   ]
  },
  {
   "cell_type": "markdown",
   "metadata": {},
   "source": [
    "The fact that Pyro supports arbitrary Python code like this -iteration, recursion, higher-order functions, etc - in conjunction with random control flows means that Pyro stochastic functions are universal, i.e. they can be used to represent any computable probability distribution. "
   ]
  },
  {
   "cell_type": "markdown",
   "metadata": {},
   "source": [
    "Pyro is built on top of PyTorch to take advantage of dynamic computational graphs which are an important ingredient in allowing for unviersal models that can benefit from GPU-accelerated tensor math. \n"
   ]
  },
  {
   "cell_type": "code",
   "execution_count": 73,
   "metadata": {},
   "outputs": [
    {
     "data": {
      "text/plain": [
       "<torch._C.Generator at 0x17e67305850>"
      ]
     },
     "execution_count": 73,
     "metadata": {},
     "output_type": "execute_result"
    }
   ],
   "source": [
    "%matplotlib inline\n",
    "# import some dependencies\n",
    "import numpy as np\n",
    "import matplotlib.pyplot as plt\n",
    "try:\n",
    "    import seaborn as sns\n",
    "    sns.set()\n",
    "except ImportError:\n",
    "    pass\n",
    "\n",
    "import torch\n",
    "from torch.autograd import Variable\n",
    "\n",
    "import pyro\n",
    "import pyro.infer\n",
    "import pyro.optim\n",
    "import pyro.distributions as dist\n",
    "\n",
    "torch.manual_seed(101)"
   ]
  },
  {
   "cell_type": "markdown",
   "metadata": {},
   "source": [
    "## Inference in Pyro: From Stochastic Functions to Marginal Distributions\n",
    "\n",
    "Stochastic functions induce a joint probability distribution p(y,z | x) over their latent variables z and return values y, and this joint distribution induces a marginal distribution over return values of the function. However, for non-primitive stochastic functions, we can no longer explicitly compute the marginal probability of an output p(y|x) or draw samples from the marginal distribution over return values y ~ p(y|x) \n"
   ]
  },
  {
   "cell_type": "markdown",
   "metadata": {},
   "source": [
    "In the most generalizeable construct, we can view inference in a universal probabilistic programming language like Pyro to be a problem of constructing this marginal distribution given an arbitrary boolean constraint so that we can perform these computations. The constrain can be deterministic, and hinge on the return value, the internal randomness, or both. \n",
    "Bayesian inference or posterior inference is an important special case of this more general formulation that admits tractable approximiations. In Bayesian inference, the return value is always the values of some subset internal sample statements, and the constraint is an equality constraint on the other internal sample statements. According to the documentation much of modern machine learning can be cast as approximate Bayesian inference and expressed succintly in a language like Pyro.\n",
    "Next we will make a generative model."
   ]
  },
  {
   "cell_type": "markdown",
   "metadata": {},
   "source": [
    "#### Representing marginal distributions\n",
    "Suppose we are trying to figure out how much something weights, but the scale is unreliable, we can try to compensate for this by integrating the noisy measurement info with a guess based on prior knowledge about the object, like its density or material properties. "
   ]
  },
  {
   "cell_type": "code",
   "execution_count": 74,
   "metadata": {
    "collapsed": true
   },
   "outputs": [],
   "source": [
    "def scale(guess):\n",
    "    # the prior over weight encodes our uncertainty about our guess.\n",
    "    weight = pyro.sample(\"weight\", dist.normal, guess, Variable(torch.ones(1)))\n",
    "    # this encodes our belief about the noisiness of the scale:\n",
    "    # the measurement fluctuates around the true weight.\n",
    "    return pyro.sample('measurement', dist.normal, weight, Variable(torch.Tensor([.75])))"
   ]
  },
  {
   "cell_type": "markdown",
   "metadata": {},
   "source": [
    "Let's analyze the models behavior, in particular, we can use importance sampling to simulate the marginal distribution of measurement values we'd expect to see a priori for a given guess.\n",
    "Marginalization in Pyro is split between two steps, first we collect a number of weighted execution traces of the model, then we can collpase those traces into a histogram over possible return values given a particular set of arguments.\n",
    "We use pyro.infer.Marginal\n",
    "Sampling can be done either through sampling, or, for models with only discrete latent variables, exact enumeration. to create a basic importance sampler over execution traces (using the prior as a proposal distribution), we can write:\n"
   ]
  },
  {
   "cell_type": "code",
   "execution_count": 75,
   "metadata": {},
   "outputs": [],
   "source": [
    "posterior = pyro.infer.Importance(scale, num_samples=1000)"
   ]
  },
  {
   "cell_type": "markdown",
   "metadata": {},
   "source": [
    "By itself the posterior is not very useful, though advanced users can call it with arguments for scale to sample a raw execution trace.\n",
    "Instead, the posterior is meant to be consumed by pyro.infer.Marginal, which creates a primitive stochastic function with the same input and output types as scale.\n"
   ]
  },
  {
   "cell_type": "code",
   "execution_count": 76,
   "metadata": {},
   "outputs": [
    {
     "data": {
      "text/plain": [
       "Variable containing:\n",
       " 7.4698\n",
       "[torch.FloatTensor of size 1]"
      ]
     },
     "execution_count": 76,
     "metadata": {},
     "output_type": "execute_result"
    }
   ],
   "source": [
    "guess = Variable(torch.Tensor([8.5]))\n",
    "marginal = pyro.infer.Marginal(posterior)\n",
    "marginal(guess)"
   ]
  },
  {
   "cell_type": "markdown",
   "metadata": {},
   "source": [
    "When called with an input guess, marginal first uses posterior to generate a seuqnece of weighted execution traces given guess, then builds a histogram over return values from the traces, and finally returns a sample drawn from the histogram. Calling marginal with the same arguments more than once will sample from the same histogram. \n"
   ]
  },
  {
   "cell_type": "code",
   "execution_count": 77,
   "metadata": {},
   "outputs": [
    {
     "data": {
      "text/plain": [
       "Text(0,0.5,'#')"
      ]
     },
     "execution_count": 77,
     "metadata": {},
     "output_type": "execute_result"
    },
    {
     "data": {
      "image/png": "[encoded data removed]",
      "text/plain": [
       "<matplotlib.figure.Figure at 0x17e55d2e4a8>"
      ]
     },
     "metadata": {},
     "output_type": "display_data"
    }
   ],
   "source": [
    "\n",
    "plt.hist([marginal(guess).data[0] for _ in range(100)], range=(5.0, 12.0))\n",
    "plt.title(\"P(measurement | guess)\")\n",
    "plt.xlabel(\"weight\")\n",
    "plt.ylabel(\"#\")\n",
    "\n"
   ]
  },
  {
   "cell_type": "markdown",
   "metadata": {},
   "source": [
    "pyro.infer.Marginal also accepts the optional keyword argument sites = [name1, name2, ...] that provides a list of names of latent variables. When sites is specified, marginal will return a dictionary where the keys are the names in sites and the values are values at those sites from a single execution trace. \n",
    "This is useful because we may wish to compute many different marginals from the same posterior object.\n",
    "\n",
    "\n"
   ]
  },
  {
   "cell_type": "markdown",
   "metadata": {},
   "source": [
    "The real utility of probabilistic programming is in the ability to condition generative models on observed data and infer the latent factors that might have produced that data. In Pyro, we separate the expression of conditioning from its evaluation via inference, making it possible to write a model once and condition it on many different observations. We can constrain a models internal sample statement to be equal to a given set of observations.\n"
   ]
  },
  {
   "cell_type": "markdown",
   "metadata": {},
   "source": [
    "We will consider scale once more, suppose we want to sample from the marginal distribution of weight give ninput guess== 0.5\n",
    "but now we have observed that measurement ==0.1. Pyro provides the function pyro.condition to allow us to constrain the values of sample statements. pyro.condition is a higher-order function that takes a model and a dictionary of data and returns a new model that has the same input and output signatures but always uses the given values at observed sample statements. "
   ]
  },
  {
   "cell_type": "code",
   "execution_count": 78,
   "metadata": {
    "collapsed": true
   },
   "outputs": [],
   "source": [
    "conditioned_scale = pyro.condition(scale, data= {\"measurement\": Variable(torch.Tensor([8.5]))})"
   ]
  },
  {
   "cell_type": "markdown",
   "metadata": {},
   "source": [
    "This is just like a Python function, conditioning can be deferred to or parametrized with lambda or def.\n"
   ]
  },
  {
   "cell_type": "code",
   "execution_count": 79,
   "metadata": {
    "collapsed": true
   },
   "outputs": [],
   "source": [
    "def deferred_conditioned_scale(measurement, *args, **kwargs):\n",
    "    return pyro.condition(scale, data= {'measurement': measurement})(*args, **kwargs)"
   ]
  },
  {
   "cell_type": "markdown",
   "metadata": {
    "collapsed": true
   },
   "source": [
    "In some cases it may be convenient to pass observation directly to individual pyro.sample statements instead of using pyro.condition. The option obs keyword argument is reserved by pyro.sample for that purpose; furthermore, pyro.observe is an alias for pyro.sample with obs.\n"
   ]
  },
  {
   "cell_type": "code",
   "execution_count": 80,
   "metadata": {
    "collapsed": true
   },
   "outputs": [],
   "source": [
    "# equivalent to pyro.condition(scale, data= {\"measurement\": Variable(torch.ones(1\n",
    "def scale_obs(guess):\n",
    "    z= pyro.sample(\"weight\", dist.normal, guess, Variable(torch.ones(1)))\n",
    "    return pyro.sample(\"measurement\", dist.normal, weight, Variable(torch.ones(1)),\n",
    "                      obs=Variable(torch.Tensor([0.1])))\n",
    "\n",
    "# equivalent to scale_obs:\n",
    "def scale_obs(guess):\n",
    "    z = pyro.sample('weight', dist.normal, guess, Variable(torch.ones(1)))\n",
    "    return pyro.observe('measurement', dist.normal, Variable(torch.ones(1)),\n",
    "                       weight, Variable(torch.Tensor([0.1])))"
   ]
  },
  {
   "cell_type": "markdown",
   "metadata": {},
   "source": [
    "Hardcoding is not usually recommended due to its invasive non-compositional nature. However, pyro.condition may be composed freely to form multiple complex queries on probabilistic model without modifying the underlying model. The only restriction is that a single site may only be constrained once.\n"
   ]
  },
  {
   "cell_type": "code",
   "execution_count": 81,
   "metadata": {
    "collapsed": true
   },
   "outputs": [],
   "source": [
    "def scale2(guess):\n",
    "    weight = pyro.sample('weight', dist.normal, guess, Variable(torch.ones(1)))\n",
    "    tolerance = torch.abs(pyro,sample('tolerance', dist.normal, Variable(torch.zeros(1)),\n",
    "                                     Variable(torch.ones(1))))\n",
    "# conditioning composes:\n",
    "# the following are all equivalent and do not interfere with each other.\n",
    "conditioned_scale2_1 = pyro.condition(\n",
    "    pyro.condition(scale2, data={\"weight\": Variable(torch.ones(1))}),\n",
    "    data={\"measurement\": Variable(torch.ones(1))})\n",
    "conditioned_scale2_2 = pyro.condition(\n",
    "    pyro.condition(scale2, data={\"measurement\": Variable(torch.ones(1))}),\n",
    "    data={\"weight\": Variable(torch.ones(1))})\n",
    "conditioned_scale2_3 = pyro.condition(\n",
    "    scale2, data={\"weight\": Variable(torch.ones(1)), \"measurement\": Variable(torch.ones(1))})"
   ]
  },
  {
   "cell_type": "markdown",
   "metadata": {},
   "source": [
    "In addition to pyro.condition for incorporating observations, Pyro also contains pyro.do an implementation of Pearl's do-operator used for causal inference with an identical interface to pyro.condition.condition and do can be mixed and composed freely, making Pyro a powerful tool for model-based causal inference.\n"
   ]
  },
  {
   "cell_type": "code",
   "execution_count": 82,
   "metadata": {},
   "outputs": [
    {
     "data": {
      "text/plain": [
       "{'weight': Variable containing:\n",
       "  10.3637\n",
       " [torch.FloatTensor of size 1]}"
      ]
     },
     "execution_count": 82,
     "metadata": {},
     "output_type": "execute_result"
    }
   ],
   "source": [
    "guess = Variable(torch.Tensor([8.5]))\n",
    "measurement = Variable(torch.Tensor([9.5]))\n",
    "conditioned_scale = pyro.condition(scale, data={'measurement': measurement})\n",
    "marginal = pyro.infer.Marginal(pyro.infer.Importance(conditioned_scale, num_samples= 1000),\n",
    "                              sites=[\"weight\"])\n",
    "\n",
    "marginal(guess)"
   ]
  },
  {
   "cell_type": "code",
   "execution_count": 83,
   "metadata": {},
   "outputs": [
    {
     "data": {
      "text/plain": [
       "Text(0,0.5,'#')"
      ]
     },
     "execution_count": 83,
     "metadata": {},
     "output_type": "execute_result"
    },
    {
     "data": {
      "image/png": "[encoded data removed]",
      "text/plain": [
       "<matplotlib.figure.Figure at 0x17e55fcc710>"
      ]
     },
     "metadata": {},
     "output_type": "display_data"
    }
   ],
   "source": [
    "plt.hist([marginal(guess)['weight'].data[0] for i in range(100)], range=(5.0, 12.0))\n",
    "plt.title(\"P(weight | measurement, guess)\")\n",
    "plt.xlabel('weight')\n",
    "plt.ylabel(\"#\")\n",
    "\n",
    "         "
   ]
  },
  {
   "cell_type": "markdown",
   "metadata": {},
   "source": [
    "This is computationally inefficient because the prior distribution over weight may be very far from the true distribution over weights, especially if our initial guess is not very good.\n",
    "Therefore, some inference algorithms in Pyro, like pyro.infer.Importance and pyro.infer.SVI allow us to use arbitrary stochastic functions, which we will call guide functions or guides, as approximate posterior distributions. These guide functions must satisfy two criteria to be valida approximations for a particular model: all unobserved sample statements that appear in the model appear in the guide. \n",
    "The guide has the same input signature as the model (same arguments)..\n"
   ]
  },
  {
   "cell_type": "markdown",
   "metadata": {},
   "source": [
    "Guides serve as programmable, data dependent proposal distributions for importance sampling, rejection sampling, sequential Monte Carlo, MCMC, and independent Metro Hastings, and as variational distributions or inference networks for stochastic variational inference. Currently, Pyro has only importance sampling and stochastic variational inference implemented. Other algorithms will be added soon.\n"
   ]
  },
  {
   "cell_type": "markdown",
   "metadata": {},
   "source": [
    "Guide is defined differently across algorithms for inference, the guide function should generally be chosen so that it closely approximates the distribution over all unobserved sample statements in the model. \n",
    "The simplest guide for deferred_conditioned_scale matches the prior distribution over weight.\n"
   ]
  },
  {
   "cell_type": "code",
   "execution_count": 84,
   "metadata": {},
   "outputs": [],
   "source": [
    "def scale_prior_guide(guess):\n",
    "    return pyro.sample('weight', dist.normal, guess, Variable(torch.ones(1)))\n",
    "posterior = pyro.infer.Importance(conditioned_scale,guide= scale_prior_guide, num_samples= 100)\n",
    "marginal = pyro.infer.Marginal(posterior, sites =[\"weight\"])"
   ]
  },
  {
   "cell_type": "markdown",
   "metadata": {},
   "source": [
    "Can we do better than the prior?\n"
   ]
  },
  {
   "cell_type": "code",
   "execution_count": 85,
   "metadata": {},
   "outputs": [
    {
     "data": {
      "text/plain": [
       "Text(0,0.5,'#')"
      ]
     },
     "execution_count": 85,
     "metadata": {},
     "output_type": "execute_result"
    },
    {
     "data": {
      "image/png": "[encoded data removed]",
      "text/plain": [
       "<matplotlib.figure.Figure at 0x17e55fcc320>"
      ]
     },
     "metadata": {},
     "output_type": "display_data"
    }
   ],
   "source": [
    "# it turns out that the true posterior distribution over weight given guess and measurement can be \n",
    "# written directly as\n",
    "def scale_posterior_guide(measurement, guess):\n",
    "    # note that torch.size(measurement, 0) is the total number of measurements we are conditioning on.\n",
    "    a = (guess + torch.sum(measurement)) / (measurement.size(0) + 1.0)\n",
    "    b = Variable(torch.ones(1)) / (measurement.size(0) + 1.0)\n",
    "    return pyro.sample('weight', dist.normal, a,b)\n",
    "posterior = pyro.infer.Importance(deferred_conditioned_scale, guide = scale_posterior_guide, num_samples=100)\n",
    "marginal = pyro.infer.Marginal(posterior, sites = ['weight'])\n",
    "plt.hist([marginal(measurement, guess)[\"weight\"].data[0] for _ in range(100)], range=(5.0, 12.0))\n",
    "plt.title(\"P(weight | measurement, guess)\")\n",
    "plt.xlabel(\"weight\")\n",
    "plt.ylabel(\"#\")"
   ]
  },
  {
   "cell_type": "markdown",
   "metadata": {},
   "source": [
    "It is generally intractable to specify a guide that is a good approximation to the posterior distribution of an arbitrary conditioned stochastic function. What we can do instead is use the top-level function pyro.param to specify a family of guides indexed by named parameters, and search for the member of the family that is the best approximation. This approach is called variational inference.\n",
    "\n",
    "pyro.param is a frontend for Pyro's key-value parameter store. Like pyro.sample, pyro.param is always called with a name as its first argument. The first time pyro.param is called with a particular name, it stores its arguments in the parameter store and then returns that value. After that, when it is called with that name, it returns the value from the parameter store regardless of any other arguments. It is similar to simple_param_store.setdefault, but with some additional tracking and management functionality. \n"
   ]
  },
  {
   "cell_type": "code",
   "execution_count": 86,
   "metadata": {
    "collapsed": true
   },
   "outputs": [],
   "source": [
    "simple_param_store = {}\n",
    "a = simple_param_store.setdefault(\"a\", torch.randn(1))"
   ]
  },
  {
   "cell_type": "code",
   "execution_count": 88,
   "metadata": {
    "collapsed": true
   },
   "outputs": [],
   "source": [
    "\n",
    "def scale_parametrized_guide(guess):\n",
    "    a = pyro.param(\"a\", Variable(torch.randn(1) + guess.data.clone(), requires_grad=True))\n",
    "    b = pyro.param(\"b\", Variable(torch.randn(1), requires_grad=True))\n",
    "    return pyro.sample(\"weight\", dist.normal, a, torch.abs(b))"
   ]
  },
  {
   "cell_type": "markdown",
   "metadata": {},
   "source": []
  },
  {
   "cell_type": "markdown",
   "metadata": {},
   "source": [
    "Pyro is built to enable stochastic variational inference, a powerful and widely applicable class of variational ifnerence algorithms with three key characteristics. ! parameters are always real-valued tensors. \n",
    "We compute Monte Carlo estimates of a loss function from samples of execution histories of the model and guide . We use stochastic gradient descent to search for the optimial parameters.\n",
    "\n",
    "Combining stochastic gradient descent with PyTorch's GPU accelerated tensor math and automatic differentiation allows us to scale variational inference to very high-dimensional parameter spaces and massive datasets.\n",
    "Stochastic variational inference: \n"
   ]
  },
  {
   "cell_type": "code",
   "execution_count": 90,
   "metadata": {},
   "outputs": [
    {
     "data": {
      "text/plain": [
       "Text(0,0.5,'loss')"
      ]
     },
     "execution_count": 90,
     "metadata": {},
     "output_type": "execute_result"
    },
    {
     "data": {
      "image/png": "[encoded data removed]",
      "text/plain": [
       "<matplotlib.figure.Figure at 0x17e56114550>"
      ]
     },
     "metadata": {},
     "output_type": "display_data"
    }
   ],
   "source": [
    "pyro.clear_param_store()\n",
    "svi = pyro.infer.SVI(model=conditioned_scale,\n",
    "                     guide=scale_parametrized_guide,\n",
    "                     optim=pyro.optim.ClippedAdam({\"lr\": 0.001}),\n",
    "                     loss=\"ELBO\")\n",
    "\n",
    "losses = []\n",
    "for t in range(10000):\n",
    "    losses.append(svi.step(guess))\n",
    "\n",
    "plt.plot(losses)\n",
    "plt.title(\"ELBO\")\n",
    "plt.xlabel(\"step\")\n",
    "plt.ylabel(\"loss\")"
   ]
  },
  {
   "cell_type": "markdown",
   "metadata": {},
   "source": [
    "The optimization updates the guide parameters, but does not produce a posterior distribution object itself. Once we find good parameters, we can just use the guide as a representation of the model's approximate posterior for downstream tasks.\n"
   ]
  },
  {
   "cell_type": "code",
   "execution_count": 92,
   "metadata": {},
   "outputs": [
    {
     "data": {
      "text/plain": [
       "Text(0,0.5,'#')"
      ]
     },
     "execution_count": 92,
     "metadata": {},
     "output_type": "execute_result"
    },
    {
     "data": {
      "image/png": "[encoded data removed]",
      "text/plain": [
       "<matplotlib.figure.Figure at 0x17e56015358>"
      ]
     },
     "metadata": {},
     "output_type": "display_data"
    }
   ],
   "source": [
    "\n",
    "posterior = pyro.infer.Importance(conditioned_scale, scale_parametrized_guide, num_samples=10)\n",
    "marginal = pyro.infer.Marginal(posterior, sites=[\"weight\"])\n",
    "\n",
    "plt.hist([marginal(guess)[\"weight\"].data[0] for _ in range(100)], range=(5.0, 12.0))\n",
    "plt.title(\"P(weight | measurement, guess)\")\n",
    "plt.xlabel(\"weight\")\n",
    "plt.ylabel(\"#\")"
   ]
  },
  {
   "cell_type": "markdown",
   "metadata": {},
   "source": [
    "Here we used optimized guide as an importance distribution for estimating the marginal distribution over weight with many fewer samples than the prior.\n"
   ]
  },
  {
   "cell_type": "code",
   "execution_count": 93,
   "metadata": {},
   "outputs": [
    {
     "data": {
      "text/plain": [
       "Text(0,0.5,'#')"
      ]
     },
     "execution_count": 93,
     "metadata": {},
     "output_type": "execute_result"
    },
    {
     "data": {
      "image/png": "[encoded data removed]",
      "text/plain": [
       "<matplotlib.figure.Figure at 0x17e4781a550>"
      ]
     },
     "metadata": {},
     "output_type": "display_data"
    }
   ],
   "source": [
    "\n",
    "plt.hist([scale_parametrized_guide(guess).data[0] for _ in range(100)], range=(5.0, 12.0))\n",
    "plt.title(\"P(weight | measurement, guess)\")\n",
    "plt.xlabel(\"weight\")\n",
    "plt.ylabel(\"#\")"
   ]
  },
  {
   "cell_type": "markdown",
   "metadata": {},
   "source": [
    "Pyro has taken great care to support stochastic variational inference as a general purpose inference algorithm. \n",
    "We use the model we previously defined, the model is given as a stochastic function (model(*args, **kwargs), which in the general cases takes arguments. The different pieces of model() are encoded via the mapping:\n",
    "\n",
    "observations <= pyro.observe\n",
    "\n",
    "latent random variables <= pyro.sample\n",
    "\n",
    "parameters.<= pyro.param\n",
    "\n",
    "\n",
    "\n",
    "The model has observations x and latent random variables z as well as parameters theta. It has a joint probability density of the form. \n",
    "\n",
    "p_theta(x,z) = p_theta(x|z) p_theta(z)\n",
    "\n",
    "We assume that the various probability distributions p_i that make up p_theta(x,z) have the following properties: \n",
    "* we can sample from each p_i\n",
    "* we can compute the pointwise log pdf p_i\n",
    "* p_i is differentiable wrt the parmeters theta"
   ]
  },
  {
   "cell_type": "markdown",
   "metadata": {},
   "source": [
    "## Model Learning\n",
    "In this context our criterion for learning a good model will be maximizing the log evidence, i.e, we want to find the value of theta given by\n",
    "\n",
    "theta_max = argmax_theta log(p_theta(x))\n",
    "\n",
    "log(p_theta(x)) = log(integral(dz * p_theta(x,z))\n",
    "\n",
    "Sadly, the interal over the latent random variables z is often intractable. Maximizing the log evidence as a function of theta will in general be a difficult non-convex optimization problem.\n"
   ]
  },
  {
   "cell_type": "markdown",
   "metadata": {},
   "source": [
    "We introduce a parameterized distribution q_theta(z) where theta are known as the variational parameters. This distribution is called the variational distribution in most of the literature, and in the context of Pyro it's called the guide. The guide serves as an approximation of the posterior. \n",
    "Just like the model, the guide is encoded as a stochastic function guide() that contains pyro.sample and pyro.param statements. It does not contain pyro.observe statements, since the guide needs to be a properly normalized distribution. Note that Pyro enforces that mode() and guide() have the same call signature (same arguments).\n",
    "\n",
    "When random variables are defined in Pyro with thte primitive statement pyro.sample() the first argument denotes the name of the random variable. These names will be used to align the random variables in the model and the guide. \n"
   ]
  },
  {
   "cell_type": "code",
   "execution_count": 94,
   "metadata": {
    "collapsed": true
   },
   "outputs": [],
   "source": [
    "def mode():\n",
    "    pyro.sample('z_1', ...)"
   ]
  },
  {
   "cell_type": "code",
   "execution_count": 95,
   "metadata": {
    "collapsed": true
   },
   "outputs": [],
   "source": [
    "def guide():\n",
    "    pyro.sample('z_1',...)"
   ]
  },
  {
   "cell_type": "markdown",
   "metadata": {},
   "source": [
    "The distributions are different but the names need to line up.\n"
   ]
  },
  {
   "cell_type": "markdown",
   "metadata": {},
   "source": [
    "Now that we've specified a guide, we are ready to proceed to inference, learning will be setup as a optimization problem where each iteration of training takes a step theta - (|) that moves the guide closer to the exact posterior. To do this we need to define an appropiate objective function.\n"
   ]
  },
  {
   "cell_type": "markdown",
   "metadata": {},
   "source": [
    "## ELBO\n",
    "The lower bound. A function of both theta and (|) is defined as an expectation wrt to samples from the guide.\n",
    "\n",
    "ELBO = Expectation q_(|)(z)[log(p_theta(x,z) - log(q_(|)(z)]\n",
    "\n",
    "We compute the log probabilities inside the expectation. And since the guide is assumed to be a parametric distributuion we can sample from, we can compute Monte Carlo estimates of this quantity. The ELBO is the lower bound of teh log evidence, i.e., for all choices of theta and (|) we have that \n",
    "\n",
    "log(p_theta(x) >= ELBO\n"
   ]
  }
 ],
 "metadata": {
  "kernelspec": {
   "display_name": "Python 3",
   "language": "python",
   "name": "python3"
  },
  "language_info": {
   "codemirror_mode": {
    "name": "ipython",
    "version": 3
   },
   "file_extension": ".py",
   "mimetype": "text/x-python",
   "name": "python",
   "nbconvert_exporter": "python",
   "pygments_lexer": "ipython3",
   "version": "3.6.1"
  }
 },
 "nbformat": 4,
 "nbformat_minor": 2
}
